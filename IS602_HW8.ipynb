{
 "cells": [
  {
   "cell_type": "code",
   "execution_count": 8,
   "metadata": {
    "collapsed": false
   },
   "outputs": [],
   "source": [
    "import Tkinter\n",
    "import tkFileDialog\n",
    "import mahotas as mh\n",
    "import pylab"
   ]
  },
  {
   "cell_type": "code",
   "execution_count": 9,
   "metadata": {
    "collapsed": false
   },
   "outputs": [
    {
     "name": "stdout",
     "output_type": "stream",
     "text": [
      "First select the circles.png file using the dialog box\n"
     ]
    }
   ],
   "source": [
    "print \"First select the circles.png file using the dialog box\""
   ]
  },
  {
   "cell_type": "code",
   "execution_count": 10,
   "metadata": {
    "collapsed": true
   },
   "outputs": [],
   "source": [
    "# Use the dialog box to bring in the circles.png file:\n",
    "root = Tkinter.Tk()\n",
    "root.withdraw()\n",
    "filename = tkFileDialog.askopenfilename(parent=root)"
   ]
  },
  {
   "cell_type": "code",
   "execution_count": 13,
   "metadata": {
    "collapsed": false
   },
   "outputs": [],
   "source": [
    "def circles():\n",
    "    # Image 1 is the circles.png file\n",
    "    my_image = mh.imread(filename)\n",
    "    # Threshold using the Riddler-Calvard method \n",
    "    # More on Riddler-Calvard: http://mahotas.readthedocs.org/en/latest/thresholding.html\n",
    "    thres = mh.rc(my_image)\n",
    "    #use the value to form a binary image\n",
    "    b_image = (my_image > thres)\n",
    "    #use gaussian filter\n",
    "    g_image = mh.gaussian_filter(b_image, 33)\n",
    "    #separate objects stuck together\n",
    "    rmax = mh.regmax(g_image)\n",
    "    #count the number of objects in the picture\n",
    "    labeled, nr_objects = mh.label(rmax)\n",
    "    #find center point for each object\n",
    "    centers = mh.center_of_mass(my_image, labeled)[1:]\n",
    "    print \"The circles.png file contains \", nr_objects, \" objects.\"\n",
    "    o = 1\n",
    "    for center in centers:\n",
    "        print \"Object %s center: %s\" %(o, center)\n",
    "        o = o + 1"
   ]
  },
  {
   "cell_type": "code",
   "execution_count": 14,
   "metadata": {
    "collapsed": false
   },
   "outputs": [
    {
     "name": "stdout",
     "output_type": "stream",
     "text": [
      "The circles.png file contains  5  objects.\n",
      "Object 1 center: [ 125.  372.]\n",
      "Object 2 center: [ 150.  521.]\n",
      "Object 3 center: [ 204.  213.]\n",
      "Object 4 center: [ 299.  361.]\n",
      "Object 5 center: [ 367.  189.]\n"
     ]
    }
   ],
   "source": [
    "circles()"
   ]
  },
  {
   "cell_type": "code",
   "execution_count": 15,
   "metadata": {
    "collapsed": false
   },
   "outputs": [
    {
     "name": "stdout",
     "output_type": "stream",
     "text": [
      "Next run the same tests on the objects.png file by selecting it using the dialog box\n"
     ]
    }
   ],
   "source": [
    "print \"Next run the same tests on the objects.png file by selecting it using the dialog box\""
   ]
  },
  {
   "cell_type": "code",
   "execution_count": 16,
   "metadata": {
    "collapsed": false
   },
   "outputs": [],
   "source": [
    "# Use the dialog box to bring in the objects.png file:\n",
    "root = Tkinter.Tk()\n",
    "root.withdraw()\n",
    "filename2 = tkFileDialog.askopenfilename(parent=root)"
   ]
  },
  {
   "cell_type": "code",
   "execution_count": 17,
   "metadata": {
    "collapsed": true
   },
   "outputs": [],
   "source": [
    "def objects():\n",
    "    # The second image is the objects.png file\n",
    "    #import image from file\n",
    "    my_image = mh.imread(filename2)\n",
    "    #use the mean to form a binary image\n",
    "    b_image = (my_image > my_image.mean())\n",
    "    #use gaussian filter\n",
    "    g_image = mh.gaussian_filter(b_image, 1.5)\n",
    "    #count the number of objects in the picture\n",
    "    labeled, nr_objects = mh.label(g_image)\n",
    "    #find center point for each object\n",
    "    centers = mh.center_of_mass(my_image, labeled)[1:]\n",
    "    print \"The objects.png contains \", nr_objects, \" objects.\"\n",
    "    o = 1\n",
    "    for center in centers:\n",
    "        print \"Object %s center: [ %s, %s ]\" \\\n",
    "              %(o, round(center[1], 0), round(center[0], 0))\n",
    "        o = o + 1\n"
   ]
  },
  {
   "cell_type": "code",
   "execution_count": 18,
   "metadata": {
    "collapsed": false
   },
   "outputs": [
    {
     "name": "stdout",
     "output_type": "stream",
     "text": [
      "The objects.png contains  8  objects.\n",
      "Object 1 center: [ 508.0, 74.0 ]\n",
      "Object 2 center: [ 183.0, 160.0 ]\n",
      "Object 3 center: [ 410.0, 148.0 ]\n",
      "Object 4 center: [ 154.0, 307.0 ]\n",
      "Object 5 center: [ 418.0, 370.0 ]\n",
      "Object 6 center: [ 269.0, 298.0 ]\n",
      "Object 7 center: [ 94.0, 399.0 ]\n",
      "Object 8 center: [ 171.0, 437.0 ]\n"
     ]
    }
   ],
   "source": [
    "objects()"
   ]
  },
  {
   "cell_type": "code",
   "execution_count": 19,
   "metadata": {
    "collapsed": false
   },
   "outputs": [
    {
     "name": "stdout",
     "output_type": "stream",
     "text": [
      "Last we test the peppers.png file by selecting it using the dialog box\n"
     ]
    }
   ],
   "source": [
    "print \"Last we test the peppers.png file by selecting it using the dialog box\""
   ]
  },
  {
   "cell_type": "code",
   "execution_count": 20,
   "metadata": {
    "collapsed": false
   },
   "outputs": [],
   "source": [
    "# Use the dialog box to bring in the peppers.png file:\n",
    "root = Tkinter.Tk()\n",
    "root.withdraw()\n",
    "filename3 = tkFileDialog.askopenfilename(parent=root)"
   ]
  },
  {
   "cell_type": "code",
   "execution_count": 21,
   "metadata": {
    "collapsed": true
   },
   "outputs": [],
   "source": [
    "def peppers():\n",
    "    # This last image is the peppers.png file\n",
    "    my_image = mh.imread(filename3)\n",
    "    T = mh.otsu(my_image)\n",
    "    b_image = (my_image > T)\n",
    "    g_image = mh.gaussian_filter(b_image, 15)\n",
    "    rmax = mh.regmax(g_image)\n",
    "    labeled, nr_objects = mh.label(rmax)\n",
    "    centers = mh.center_of_mass(my_image, labeled)[1:]\n",
    "    print \"The peppers.png file contains \", nr_objects, \" objects.\"\n",
    "    o = 1\n",
    "    for center in centers:\n",
    "        print \"Object %s center: [ %s, %s ]\" \\\n",
    "              %(o, round(center[1], 0), round(center[0], 0))\n",
    "        o = o + 1"
   ]
  },
  {
   "cell_type": "code",
   "execution_count": 22,
   "metadata": {
    "collapsed": false
   },
   "outputs": [
    {
     "name": "stdout",
     "output_type": "stream",
     "text": [
      "The peppers.png file contains  33  objects.\n",
      "Object 1 center: [ 150.0, 0.0 ]\n",
      "Object 2 center: [ 290.0, 0.0 ]\n",
      "Object 3 center: [ 511.0, 0.0 ]\n",
      "Object 4 center: [ 423.0, 22.0 ]\n",
      "Object 5 center: [ 15.0, 39.0 ]\n",
      "Object 6 center: [ 413.0, 42.0 ]\n",
      "Object 7 center: [ 81.0, 54.0 ]\n",
      "Object 8 center: [ 373.0, 58.0 ]\n",
      "Object 9 center: [ 511.0, 79.0 ]\n",
      "Object 10 center: [ 451.0, 126.0 ]\n",
      "Object 11 center: [ 320.0, 128.0 ]\n",
      "Object 12 center: [ 0.0, 135.0 ]\n",
      "Object 13 center: [ 93.0, 151.0 ]\n",
      "Object 14 center: [ 232.0, 161.0 ]\n",
      "Object 15 center: [ 359.0, 171.0 ]\n",
      "Object 16 center: [ 164.0, 182.0 ]\n",
      "Object 17 center: [ 466.0, 211.0 ]\n",
      "Object 18 center: [ 305.0, 263.0 ]\n",
      "Object 19 center: [ 239.0, 265.0 ]\n",
      "Object 20 center: [ 150.0, 267.0 ]\n",
      "Object 21 center: [ 149.0, 269.0 ]\n",
      "Object 22 center: [ 388.0, 302.0 ]\n",
      "Object 23 center: [ 294.0, 309.0 ]\n",
      "Object 24 center: [ 511.0, 311.0 ]\n",
      "Object 25 center: [ 400.0, 382.0 ]\n",
      "Object 26 center: [ 123.0, 418.0 ]\n",
      "Object 27 center: [ 0.0, 453.0 ]\n",
      "Object 28 center: [ 379.0, 465.0 ]\n",
      "Object 29 center: [ 451.0, 466.0 ]\n",
      "Object 30 center: [ 74.0, 511.0 ]\n",
      "Object 31 center: [ 180.0, 511.0 ]\n",
      "Object 32 center: [ 371.0, 511.0 ]\n",
      "Object 33 center: [ 511.0, 511.0 ]\n"
     ]
    }
   ],
   "source": [
    "peppers()"
   ]
  }
 ],
 "metadata": {
  "kernelspec": {
   "display_name": "Python 2",
   "language": "python",
   "name": "python2"
  },
  "language_info": {
   "codemirror_mode": {
    "name": "ipython",
    "version": 2
   },
   "file_extension": ".py",
   "mimetype": "text/x-python",
   "name": "python",
   "nbconvert_exporter": "python",
   "pygments_lexer": "ipython2",
   "version": "2.7.10"
  }
 },
 "nbformat": 4,
 "nbformat_minor": 0
}
