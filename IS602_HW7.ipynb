{
 "cells": [
  {
   "cell_type": "markdown",
   "metadata": {},
   "source": [
    "## IS602_HW6\n",
    "### Using SciPy Part 1 - Least Squares Linear Regression\n",
    "### Daina Bouquin"
   ]
  },
  {
   "cell_type": "markdown",
   "metadata": {},
   "source": [
    "1. Build on what you did in assignment 5: Download the dataset called \"brainandbody.csv\" or aquire the data from [here](http://vincentarelbundock.github.io/Rdatasets/datasets.html). This file is a small set of average brain weights and average body weights for a number of animals. We want to see if a relationship exists between the two. Then perform a linear regression using the least squares method on the relationship of brain weight [br] to body weight [bo]. Do this using just the built in Python functions (this is really easy using scipy, but we're not there yet).  We are looking for a model in the form bo = X * br + Y.  Find values for X and Y and print out the entire model to the console.\n",
    "\n",
    "2. In this assignment we are going to replace the regression calculations using least squares with a curve fitting approach from SciPy. To start, just fit a linear equation.  Output the equation to the console. \n",
    "\n",
    "3. Using timeit, compare the performance of your solution in homework 5 to the scipy function.  Output the results to the console."
   ]
  },
  {
   "cell_type": "code",
   "execution_count": 55,
   "metadata": {
    "collapsed": false
   },
   "outputs": [],
   "source": [
    "import timeit\n",
    "import Tkinter\n",
    "import tkFileDialog\n",
    "import csv\n",
    "import numpy as np\n",
    "from scipy import stats\n",
    "from scipy.optimize import curve_fit"
   ]
  },
  {
   "cell_type": "code",
   "execution_count": 56,
   "metadata": {
    "collapsed": true
   },
   "outputs": [],
   "source": [
    "# Bring in the dataset using Tkinter dialog box\n",
    "root = Tkinter.Tk()\n",
    "root.withdraw()\n",
    "filename = tkFileDialog.askopenfilename(parent=root)\n",
    "filename_open = open(filename)\n",
    "dataset = list(csv.reader(filename_open))"
   ]
  },
  {
   "cell_type": "markdown",
   "metadata": {},
   "source": [
    "First I will show the calculation using built in functions"
   ]
  },
  {
   "cell_type": "code",
   "execution_count": 57,
   "metadata": {
    "collapsed": false
   },
   "outputs": [
    {
     "name": "stdout",
     "output_type": "stream",
     "text": [
      "bo =  0.97 br + 91.0\n"
     ]
    }
   ],
   "source": [
    "import copy\n",
    "import numpy as np\n",
    "import numpy.random as npr\n",
    "import random # Generate random numbers with numpy for examples\n",
    "\n",
    "# Here the body will be the independent variable X and Brain be the dependent variable Y:\n",
    "\n",
    "# remove the headers for simplicity\n",
    "del dataset[0]\n",
    "\n",
    "# Find the sum of X\n",
    "numlist = [float(i[1]) for i in dataset]\n",
    "x_sum = sum(numlist)\n",
    "\n",
    "# Find the mean of X\n",
    "x_mean = x_sum / len(dataset)\n",
    "\n",
    "# Find the sum of Y\n",
    "numlist = [float(i[2]) for i in dataset]\n",
    "y_sum = sum(numlist)\n",
    "\n",
    "# Find the mean of Y\n",
    "y_mean = y_sum / len(dataset)\n",
    "\n",
    "# Find the sum of XY\n",
    "numlist = [float(i[1])*float(i[2]) for i in dataset]\n",
    "xy_sum = sum(numlist)\n",
    "\n",
    "# Find the slope and round to nearest hundreth\n",
    "x_b = [float(i[1])-x_mean for i in dataset]\n",
    "x_b_sum = sum(x_b)\n",
    "y_b = [float(i[2])-y_mean for i in dataset]\n",
    "y_b_sum = sum(y_b)\n",
    "\n",
    "# Slope numerator and denominator\n",
    "slope_n = [((float(i[1])-x_mean) * (float(i[2])-y_mean)) for i in dataset]\n",
    "slope_n = sum(slope_n)\n",
    "slope_d = [((float(i[1])-x_mean)**2) for i in dataset]\n",
    "slope_d = sum(slope_d)\n",
    "\n",
    "slope = (slope_n / slope_d)\n",
    "\n",
    "# Calculate the intercept and round to nearest hundreth\n",
    "b_int = round(y_mean - slope * x_mean, 2)\n",
    "\n",
    "# Print the model to the console:\n",
    "print \"bo = \", round(slope,2), \"br +\", b_int"
   ]
  },
  {
   "cell_type": "markdown",
   "metadata": {},
   "source": [
    "Now I'll show this same action using SciPy"
   ]
  },
  {
   "cell_type": "code",
   "execution_count": 58,
   "metadata": {
    "collapsed": false
   },
   "outputs": [],
   "source": [
    "# adjust how the data was being read in assignment 5\n",
    "x = [float(i[1]) for i in dataset]\n",
    "y = [float(i[2]) for i in dataset]"
   ]
  },
  {
   "cell_type": "code",
   "execution_count": 71,
   "metadata": {
    "collapsed": false
   },
   "outputs": [],
   "source": [
    "# using Scipy functions\n",
    "\n",
    "#wrapper needed for later testing\n",
    "def wrapper (func, *args, **kwargs):\n",
    "     def wrapped():\n",
    "          return func(*args, **kwargs)\n",
    "     return wrapped\n",
    "    \n",
    "def func(x, a, b):\n",
    "    return a * x + b\n",
    "\n",
    "def linear_scipy(x,y,p): # The p variable controls the print statement\n",
    "    yn = y + 0.9 * np.random.normal(size=len(x))\n",
    "    popt, pcov = curve_fit(func, x, yn)\n",
    "\n",
    "    if (p ==1):\n",
    "        print popt\n",
    "    else:\n",
    "        return()"
   ]
  },
  {
   "cell_type": "code",
   "execution_count": 72,
   "metadata": {
    "collapsed": false
   },
   "outputs": [
    {
     "name": "stdout",
     "output_type": "stream",
     "text": [
      "Results using SciPy: [  0.96640753  91.07141712]\n",
      "None\n"
     ]
    }
   ],
   "source": [
    "print \"Results using SciPy:\", linear_scipy(x,y,1)"
   ]
  },
  {
   "cell_type": "code",
   "execution_count": 73,
   "metadata": {
    "collapsed": false
   },
   "outputs": [],
   "source": [
    "setup = '''\n",
    "# using wrapper function\n",
    "def wrapper (func, *args, **kwargs):\n",
    "     def wrapped():\n",
    "          return func(*args, **kwargs)\n",
    "     return wrapped\n",
    "\n",
    "# using Scipy functions\n",
    "def func(x, a, b):\n",
    "    return a * x + b\n",
    "\n",
    "def linear_scipy(x,y,p): # The p variable controls the print statement\n",
    "    yn = y + 0.9 * np.random.normal(size=len(x))\n",
    "    popt, pcov = curve_fit(func, x, yn)\n",
    "\n",
    "    if (p ==1):\n",
    "        print popt\n",
    "    else:\n",
    "        return()\n",
    "'''"
   ]
  },
  {
   "cell_type": "code",
   "execution_count": 81,
   "metadata": {
    "collapsed": false
   },
   "outputs": [
    {
     "name": "stdout",
     "output_type": "stream",
     "text": [
      "#################################\n",
      " The SciPy time = 1.43070697784 seconds\n",
      "\n"
     ]
    }
   ],
   "source": [
    "# Timed analysis\n",
    "loops = [1, 1000]\n",
    "for i in loops:\n",
    "    count= i\n",
    "\n",
    "print \"#################################\"\n",
    "wrapped = wrapper(linear_scipy, x,y,0)\n",
    "print \"The SciPy time =\", timeit.timeit(wrapped, number=count), \"seconds\""
   ]
  }
 ],
 "metadata": {
  "kernelspec": {
   "display_name": "Python 2",
   "language": "python",
   "name": "python2"
  },
  "language_info": {
   "codemirror_mode": {
    "name": "ipython",
    "version": 2
   },
   "file_extension": ".py",
   "mimetype": "text/x-python",
   "name": "python",
   "nbconvert_exporter": "python",
   "pygments_lexer": "ipython2",
   "version": "2.7.10"
  }
 },
 "nbformat": 4,
 "nbformat_minor": 0
}
