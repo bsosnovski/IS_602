{
 "cells": [
  {
   "cell_type": "markdown",
   "metadata": {},
   "source": [
    "### IS 602: HW 11\n",
    "#### Daina Bouquin\n",
    "\n",
    "Perform a Monte Carlo simulation to calculate Value at Risk for the 2011 Apple stock price using the file available [here](https://github.com/dbouquin/IS_602/blob/master/apple.2011.csv).\n",
    "\n",
    "1. The file (apple.2011.csv) has 3 columns: date, price, and percent change. The information we are really interested in is the percent change. This value is the percent change in the price from the previous date to the date on the corresponding row. Use the percent change values to create a **Gaussian random number generator**. This generator will create Gaussian-distributed randoms to use as hypothetical percent changes on the day to day price of Apple stock. \n",
    "2. With that generator, **create 20 random numbers**. With these randoms, you can find a potential price change over 20 days. Start with the price from the last row and the random numbers to determine a hypothetical price after 20 days.  To do this, **take that last price, apply a percent change and get a new price.  Then take that new price, and apply the next percent change.  Do this for the 20 randoms, and get a final price**.\n",
    "3. **Store the final price after 20 days** (you can discard the intermediate price values).\n",
    "4. **Repeat these first steps** a very large number of times. Something like 10000. Each run will yield a different result.\n",
    "5. Take all of the stored p**rices (10000 or so), sort them, and find the 1% lowest percentile**.  This value is the final result, and represents the VaR with 99% confidence.  This means that the price will be above this result after 20 days with a confidence level of 99%."
   ]
  },
  {
   "cell_type": "code",
   "execution_count": 2,
   "metadata": {
    "collapsed": true
   },
   "outputs": [],
   "source": [
    "import Tkinter\n",
    "import tkFileDialog\n",
    "import pandas as pd\n",
    "import numpy as np\n",
    "from pandas import Series"
   ]
  },
  {
   "cell_type": "code",
   "execution_count": 3,
   "metadata": {
    "collapsed": false
   },
   "outputs": [],
   "source": [
    "root = Tkinter.Tk()\n",
    "root.withdraw()\n",
    "file_p = tkFileDialog.askopenfilename(parent=root) # select the apple data file\n",
    "AD = pd.read_csv(file_p)\n",
    "AD.columns = ['date','price','p_change']"
   ]
  },
  {
   "cell_type": "code",
   "execution_count": 4,
   "metadata": {
    "collapsed": false
   },
   "outputs": [
    {
     "name": "stdout",
     "output_type": "stream",
     "text": [
      "['date', 'price', 'p_change']\n",
      "(252, 3)\n"
     ]
    }
   ],
   "source": [
    "print list(AD.columns.values) #checking to make sure the headers are correct\n",
    "print AD.shape # find the dimensions of the df"
   ]
  },
  {
   "cell_type": "markdown",
   "metadata": {},
   "source": [
    "Calculate the mean and standard deviation of the percent daily change in stock price. \n",
    "The values for mu and sigma will used in our Gaussian (Normal) distribution random number generator."
   ]
  },
  {
   "cell_type": "code",
   "execution_count": 5,
   "metadata": {
    "collapsed": false
   },
   "outputs": [
    {
     "data": {
      "text/plain": [
       "(0.0009573552071713143, 0.016487613979893456)"
      ]
     },
     "execution_count": 5,
     "metadata": {},
     "output_type": "execute_result"
    }
   ],
   "source": [
    "p = Series(AD['p_change'][1:],dtype=float) # not using first row (headers)\n",
    "mu, sigma = np.mean(p), np.std(p)\n",
    "mu, sigma"
   ]
  },
  {
   "cell_type": "markdown",
   "metadata": {},
   "source": [
    "Create a vector to store results, and run the simulation 10,000 times. Then find and print the first percentile.\n"
   ]
  },
  {
   "cell_type": "code",
   "execution_count": 51,
   "metadata": {
    "collapsed": false
   },
   "outputs": [
    {
     "name": "stdout",
     "output_type": "stream",
     "text": [
      "345.951162719\n"
     ]
    }
   ],
   "source": [
    "f_price = []\n",
    "for i in range(0,10000):\n",
    "    l_price = AD['price'][251] # the last row (we aren't looking at the headers)\n",
    "    diff_20 = np.random.normal(mu, sigma, 20)\n",
    "    next_20 = [] # nesting to keep it simple\n",
    "    for e in diff_20:\n",
    "        l_price = l_price + l_price * e #notation shared by David Stern\n",
    "        next_20.append(l_price)\n",
    "    f_price.append(next_20[19])\n",
    "\n",
    "print np.percentile(f_price,1) "
   ]
  }
 ],
 "metadata": {
  "kernelspec": {
   "display_name": "Python 2",
   "language": "python",
   "name": "python2"
  },
  "language_info": {
   "codemirror_mode": {
    "name": "ipython",
    "version": 2
   },
   "file_extension": ".py",
   "mimetype": "text/x-python",
   "name": "python",
   "nbconvert_exporter": "python",
   "pygments_lexer": "ipython2",
   "version": "2.7.10"
  }
 },
 "nbformat": 4,
 "nbformat_minor": 0
}
