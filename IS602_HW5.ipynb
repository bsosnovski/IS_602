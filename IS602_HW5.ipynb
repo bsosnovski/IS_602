{
 "cells": [
  {
   "cell_type": "markdown",
   "metadata": {},
   "source": [
    "## IS602_HW5\n",
    "### Basic Data Mining - Least Squares Linear Regression\n",
    "### Daina Bouquin"
   ]
  },
  {
   "cell_type": "markdown",
   "metadata": {},
   "source": [
    "1. Download the dataset called \"brainandbody.csv\" or aquire the data from [here](http://vincentarelbundock.github.io/Rdatasets/datasets.html). This file is a small set of average brain weights and average body weights for a number of animals. We want to see if a relationship exists between the two.\n",
    "2. Perform a linear regression using the least squares method on the relationship of brain weight [br] to body weight [bo]. Do this using just the built in Python functions (this is really easy using scipy, but we're not there yet).  We are looking for a model in the form bo = X * br + Y.  Find values for X and Y and print out the entire model to the console."
   ]
  },
  {
   "cell_type": "code",
   "execution_count": 86,
   "metadata": {
    "collapsed": false
   },
   "outputs": [],
   "source": [
    "import Tkinter\n",
    "import tkFileDialog\n",
    "import csv"
   ]
  },
  {
   "cell_type": "code",
   "execution_count": 87,
   "metadata": {
    "collapsed": true
   },
   "outputs": [],
   "source": [
    "# Bring in the dataset using Tkinter dialog box\n",
    "root = Tkinter.Tk()\n",
    "root.withdraw()\n",
    "filename = tkFileDialog.askopenfilename(parent=root)\n",
    "filename_open = open(filename)\n",
    "dataset = list(csv.reader(filename_open))"
   ]
  },
  {
   "cell_type": "code",
   "execution_count": 88,
   "metadata": {
    "collapsed": false
   },
   "outputs": [
    {
     "data": {
      "text/plain": [
       "['animal', 'body', 'brain']"
      ]
     },
     "execution_count": 88,
     "metadata": {},
     "output_type": "execute_result"
    }
   ],
   "source": [
    "dataset[0] "
   ]
  },
  {
   "cell_type": "code",
   "execution_count": 89,
   "metadata": {
    "collapsed": true
   },
   "outputs": [],
   "source": [
    "# remove the headers for simplicity\n",
    "del dataset[0]"
   ]
  },
  {
   "cell_type": "code",
   "execution_count": 90,
   "metadata": {
    "collapsed": false
   },
   "outputs": [
    {
     "data": {
      "text/plain": [
       "['Lesser short-tailed shrew', '0.005', '0.14']"
      ]
     },
     "execution_count": 90,
     "metadata": {},
     "output_type": "execute_result"
    }
   ],
   "source": [
    "dataset[0] "
   ]
  },
  {
   "cell_type": "markdown",
   "metadata": {},
   "source": [
    "Here the body will be the independent variable X and Brain be the dependent variable Y:"
   ]
  },
  {
   "cell_type": "code",
   "execution_count": 91,
   "metadata": {
    "collapsed": false
   },
   "outputs": [
    {
     "name": "stdout",
     "output_type": "stream",
     "text": [
      "12324.979\n"
     ]
    }
   ],
   "source": [
    "# Find the sum of X\n",
    "numlist = [float(i[1]) for i in dataset]\n",
    "x_sum = sum(numlist)\n",
    "print(x_sum)"
   ]
  },
  {
   "cell_type": "code",
   "execution_count": 92,
   "metadata": {
    "collapsed": false
   },
   "outputs": [
    {
     "name": "stdout",
     "output_type": "stream",
     "text": [
      "198.789983871\n"
     ]
    }
   ],
   "source": [
    "# Find the mean of X\n",
    "x_mean = x_sum / len(dataset)\n",
    "print(x_mean)"
   ]
  },
  {
   "cell_type": "code",
   "execution_count": 93,
   "metadata": {
    "collapsed": false
   },
   "outputs": [
    {
     "name": "stdout",
     "output_type": "stream",
     "text": [
      "17554.32\n"
     ]
    }
   ],
   "source": [
    "# Find the sum of Y\n",
    "numlist = [float(i[2]) for i in dataset]\n",
    "y_sum = sum(numlist)\n",
    "print(y_sum)"
   ]
  },
  {
   "cell_type": "code",
   "execution_count": 94,
   "metadata": {
    "collapsed": false
   },
   "outputs": [
    {
     "name": "stdout",
     "output_type": "stream",
     "text": [
      "283.134193548\n"
     ]
    }
   ],
   "source": [
    "# Find the mean of Y\n",
    "y_mean = y_sum / len(dataset)\n",
    "print(y_mean)"
   ]
  },
  {
   "cell_type": "code",
   "execution_count": 95,
   "metadata": {
    "collapsed": false
   },
   "outputs": [
    {
     "name": "stdout",
     "output_type": "stream",
     "text": [
      "51154897.2937\n"
     ]
    }
   ],
   "source": [
    "# Find the sum of XY\n",
    "numlist = [float(i[1])*float(i[2]) for i in dataset]\n",
    "xy_sum = sum(numlist)\n",
    "print(xy_sum)"
   ]
  },
  {
   "cell_type": "code",
   "execution_count": 113,
   "metadata": {
    "collapsed": false
   },
   "outputs": [
    {
     "name": "stdout",
     "output_type": "stream",
     "text": [
      "Slope:  47665274.3041 / 49317592.8005 = 0.97\n"
     ]
    }
   ],
   "source": [
    "# Find the slope and round to nearest hundreth\n",
    "x_b = [float(i[1])-x_mean for i in dataset]\n",
    "x_b_sum = sum(x_b)\n",
    "y_b = [float(i[2])-y_mean for i in dataset]\n",
    "y_b_sum = sum(y_b)\n",
    "\n",
    "# Slope numerator and denominator\n",
    "slope_n = [((float(i[1])-x_mean) * (float(i[2])-y_mean)) for i in dataset]\n",
    "slope_n = sum(slope_n)\n",
    "slope_d = [((float(i[1])-x_mean)**2) for i in dataset]\n",
    "slope_d = sum(slope_d)\n",
    "\n",
    "slope = (slope_n / slope_d)\n",
    "\n",
    "print \"Slope: \", slope_n, \"/\", slope_d, \"=\", round(slope, 2)\n"
   ]
  },
  {
   "cell_type": "code",
   "execution_count": 120,
   "metadata": {
    "collapsed": false
   },
   "outputs": [
    {
     "name": "stdout",
     "output_type": "stream",
     "text": [
      "91.0\n"
     ]
    }
   ],
   "source": [
    "# Calculate the intercept and round to nearest hundreth\n",
    "b_int = round(y_mean - slope * x_mean, 2)\n",
    "print b_int"
   ]
  },
  {
   "cell_type": "code",
   "execution_count": 121,
   "metadata": {
    "collapsed": false
   },
   "outputs": [
    {
     "name": "stdout",
     "output_type": "stream",
     "text": [
      "bo =  0.97 br + 91.0\n"
     ]
    }
   ],
   "source": [
    "# Print the model to the console:\n",
    "print \"bo = \", round(slope,2), \"br +\", b_int"
   ]
  }
 ],
 "metadata": {
  "kernelspec": {
   "display_name": "Python 2",
   "language": "python",
   "name": "python2"
  },
  "language_info": {
   "codemirror_mode": {
    "name": "ipython",
    "version": 2
   },
   "file_extension": ".py",
   "mimetype": "text/x-python",
   "name": "python",
   "nbconvert_exporter": "python",
   "pygments_lexer": "ipython2",
   "version": "2.7.10"
  }
 },
 "nbformat": 4,
 "nbformat_minor": 0
}
