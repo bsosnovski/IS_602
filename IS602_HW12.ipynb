{
 "cells": [
  {
   "cell_type": "markdown",
   "metadata": {},
   "source": [
    "### IS_602 HW12\n",
    "Daina Bouquin\n",
    "\n",
    "1. Use your solution from Homework 11 and complete the Monte Carlo step in parallel. \n",
    "\n",
    "2. Compare the timing for your solution in homework 11 and this parallel solution."
   ]
  },
  {
   "cell_type": "markdown",
   "metadata": {},
   "source": [
    "##### Re-running the initial analysis from HW11"
   ]
  },
  {
   "cell_type": "code",
   "execution_count": 2,
   "metadata": {
    "collapsed": false
   },
   "outputs": [],
   "source": [
    "import Tkinter\n",
    "import tkFileDialog\n",
    "import pandas as pd\n",
    "import numpy as np\n",
    "from pandas import Series\n",
    "import os\n",
    "import timeit\n",
    "import ipyparallel # parallel was depreciated so 'pip install ipyparallel'"
   ]
  },
  {
   "cell_type": "code",
   "execution_count": 3,
   "metadata": {
    "collapsed": false
   },
   "outputs": [],
   "source": [
    "root = Tkinter.Tk()\n",
    "root.withdraw()\n",
    "file_p = tkFileDialog.askopenfilename(parent=root) # select the apple data file\n",
    "AD = pd.read_csv(file_p)\n",
    "AD.columns = ['date','price','p_change']"
   ]
  },
  {
   "cell_type": "code",
   "execution_count": 4,
   "metadata": {
    "collapsed": false
   },
   "outputs": [
    {
     "data": {
      "text/plain": [
       "(0.0009573552071713143, 0.016487613979893456)"
      ]
     },
     "execution_count": 4,
     "metadata": {},
     "output_type": "execute_result"
    }
   ],
   "source": [
    "# Analysis from HW11\n",
    "p = Series(AD['p_change'][1:],dtype=float) # not using first row (headers)\n",
    "mu, sigma = np.mean(p), np.std(p)\n",
    "mu, sigma"
   ]
  },
  {
   "cell_type": "code",
   "execution_count": 5,
   "metadata": {
    "collapsed": false
   },
   "outputs": [
    {
     "name": "stdout",
     "output_type": "stream",
     "text": [
      "346.507305995\n"
     ]
    }
   ],
   "source": [
    "# Monte Carlo from HW11\n",
    "f_price = []\n",
    "for i in range(0,10000):\n",
    "    l_price = AD['price'][251] # the last row (we aren't looking at the headers)\n",
    "    diff_20 = np.random.normal(mu, sigma, 20)\n",
    "    next_20 = [] # nesting to keep it simple\n",
    "    for e in diff_20:\n",
    "        l_price = l_price + l_price * e #notation shared by David Stern\n",
    "        next_20.append(l_price)\n",
    "    f_price.append(next_20[19])\n",
    "\n",
    "print np.percentile(f_price,1) "
   ]
  },
  {
   "cell_type": "markdown",
   "metadata": {},
   "source": [
    "##### Timing the first approach to Monte Carlo from HW11"
   ]
  },
  {
   "cell_type": "code",
   "execution_count": 6,
   "metadata": {
    "collapsed": false
   },
   "outputs": [
    {
     "name": "stdout",
     "output_type": "stream",
     "text": [
      "10000000 loops, best of 3: 27.1 ns per loop\n",
      "348.135750146\n"
     ]
    }
   ],
   "source": [
    "%timeit diff_20\n",
    "f_price = []\n",
    "for i in range(0,10000):\n",
    "    l_price = AD['price'][251] # the last row (we aren't looking at the headers)\n",
    "    diff_20 = np.random.normal(mu, sigma, 20)\n",
    "    next_20 = [] # nesting to keep it simple\n",
    "    for e in diff_20:\n",
    "        l_price = l_price + l_price * e #notation shared by David Stern\n",
    "        next_20.append(l_price)\n",
    "    f_price.append(next_20[19])\n",
    "\n",
    "print np.percentile(f_price,1) "
   ]
  },
  {
   "cell_type": "markdown",
   "metadata": {},
   "source": [
    "##### Parallel Processing approach to the Monte Carlo"
   ]
  },
  {
   "cell_type": "code",
   "execution_count": 11,
   "metadata": {
    "collapsed": false
   },
   "outputs": [],
   "source": [
    "# In terminal start 4 clusters: ipcluster start -n 4\n",
    "# In terminal: ipython profile create --parallel --profile=myprofile\n",
    "from ipyparallel import Client"
   ]
  },
  {
   "cell_type": "code",
   "execution_count": 12,
   "metadata": {
    "collapsed": true
   },
   "outputs": [],
   "source": [
    "c = Client()"
   ]
  },
  {
   "cell_type": "code",
   "execution_count": 13,
   "metadata": {
    "collapsed": false
   },
   "outputs": [],
   "source": [
    "clients = ipyparallel.Client()\n",
    "dview = clients.direct_view()"
   ]
  },
  {
   "cell_type": "code",
   "execution_count": 15,
   "metadata": {
    "collapsed": false
   },
   "outputs": [],
   "source": [
    "%%px \n",
    "import Tkinter\n",
    "import tkFileDialog\n",
    "import pandas as pd\n",
    "import numpy as np\n",
    "from pandas import Series\n",
    "import os\n",
    "import timeit\n",
    "import ipyparallel\n",
    "\n",
    "root = Tkinter.Tk()\n",
    "root.withdraw()\n",
    "file_p = tkFileDialog.askopenfilename(parent=root) # select the apple data file\n",
    "AD = pd.read_csv(file_p)\n",
    "AD.columns = ['date','price','p_change']\n",
    "\n",
    "# Analysis from HW11\n",
    "p = Series(AD['p_change'][1:],dtype=float) # not using first row (headers)\n",
    "mu, sigma = np.mean(p), np.std(p)\n",
    "mu, sigma\n",
    "\n",
    "# the parallel part\n",
    "clients = ipyparallel.Client()\n",
    "dview = clients.direct_view()\n",
    "\n",
    "def rand20(mean,std):\n",
    "    import random\n",
    "    randomlist = []\n",
    "    for i in range(0,20):\n",
    "         randomlist.append(random.gauss(mean,std))\n",
    "    return randomlist"
   ]
  },
  {
   "cell_type": "code",
   "execution_count": 17,
   "metadata": {
    "collapsed": false
   },
   "outputs": [
    {
     "data": {
      "text/plain": [
       "[0, 1, 2, 3]"
      ]
     },
     "execution_count": 17,
     "metadata": {},
     "output_type": "execute_result"
    }
   ],
   "source": [
    "c.ids # checking to make sure there are 4 clusters"
   ]
  },
  {
   "cell_type": "code",
   "execution_count": 16,
   "metadata": {
    "collapsed": false
   },
   "outputs": [
    {
     "name": "stdout",
     "output_type": "stream",
     "text": [
      "[stdout:0] \n",
      "10000000 loops, best of 3: 45.9 ns per loop\n",
      "346.32858915\n",
      "[stdout:1] \n",
      "10000000 loops, best of 3: 46.3 ns per loop\n",
      "347.52744757\n",
      "[stdout:2] \n",
      "10000000 loops, best of 3: 46.3 ns per loop\n",
      "347.211661754\n",
      "[stdout:3] \n",
      "10000000 loops, best of 3: 46.3 ns per loop\n",
      "346.792277847\n"
     ]
    }
   ],
   "source": [
    "%%px \n",
    "f_price = []\n",
    "diff_20 = []\n",
    "\n",
    "%timeit diff_20\n",
    "for i in range(0,10000):\n",
    "    l_price = AD['price'][251] # the last row (we aren't looking at the headers)\n",
    "    diff_20 = np.random.normal(mu, sigma, 20)\n",
    "    next_20 = [] # nesting to keep it simple\n",
    "    for e in diff_20:\n",
    "        l_price = l_price + l_price * e #notation shared by David Stern\n",
    "        next_20.append(l_price)\n",
    "    f_price.append(next_20[19])\n",
    "\n",
    "print np.percentile(f_price,1) "
   ]
  }
 ],
 "metadata": {
  "kernelspec": {
   "display_name": "Python 2",
   "language": "python",
   "name": "python2"
  },
  "language_info": {
   "codemirror_mode": {
    "name": "ipython",
    "version": 2
   },
   "file_extension": ".py",
   "mimetype": "text/x-python",
   "name": "python",
   "nbconvert_exporter": "python",
   "pygments_lexer": "ipython2",
   "version": "2.7.10"
  }
 },
 "nbformat": 4,
 "nbformat_minor": 0
}
