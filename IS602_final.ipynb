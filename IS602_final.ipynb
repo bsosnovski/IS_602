{
 "cells": [
  {
   "cell_type": "code",
   "execution_count": 3,
   "metadata": {
    "collapsed": true
   },
   "outputs": [],
   "source": [
    "import os\n",
    "import ads\n",
    "import scipy\n",
    "import pandas as pd\n",
    "import matplotlib.pyplot as plt\n",
    "import seaborn as sns\n",
    "import csv"
   ]
  },
  {
   "cell_type": "code",
   "execution_count": 4,
   "metadata": {
    "collapsed": false
   },
   "outputs": [],
   "source": [
    "os.environ[\"ADS_DEV_KEY\"] = \"kNUoTurJ5TXV9hsw9KQN1k8wH4U0D7Oy0CJoOvyw\" # (open('dev_key.txt','r')).read() for text file containing just dev key"
   ]
  },
  {
   "cell_type": "code",
   "execution_count": 5,
   "metadata": {
    "collapsed": false
   },
   "outputs": [],
   "source": [
    "ads.config.token = 'ADS_DEV_KEY'"
   ]
  },
  {
   "cell_type": "code",
   "execution_count": 6,
   "metadata": {
    "collapsed": false
   },
   "outputs": [
    {
     "name": "stdout",
     "output_type": "stream",
     "text": [
      "--> stars\n"
     ]
    }
   ],
   "source": [
    "x = raw_input('--> ') # the first term you want to search "
   ]
  },
  {
   "cell_type": "code",
   "execution_count": 7,
   "metadata": {
    "collapsed": false
   },
   "outputs": [
    {
     "name": "stdout",
     "output_type": "stream",
     "text": [
      "--> black holes\n"
     ]
    }
   ],
   "source": [
    "y = raw_input('--> ') # the second term you want to search for comparison"
   ]
  },
  {
   "cell_type": "code",
   "execution_count": 8,
   "metadata": {
    "collapsed": false
   },
   "outputs": [
    {
     "name": "stdout",
     "output_type": "stream",
     "text": [
      "--> supernova\n"
     ]
    }
   ],
   "source": [
    "z = raw_input('--> ') # the third term you want to search for comparison"
   ]
  },
  {
   "cell_type": "code",
   "execution_count": 9,
   "metadata": {
    "collapsed": false
   },
   "outputs": [],
   "source": [
    "papers1 = list(ads.SearchQuery(title= x, fq=\"bibgroup:cfa\", sort= \"pubdate\"))"
   ]
  },
  {
   "cell_type": "code",
   "execution_count": 10,
   "metadata": {
    "collapsed": false
   },
   "outputs": [],
   "source": [
    "papers2 = list(ads.SearchQuery(title= y, fq=\"bibgroup:cfa\", sort= \"pubdate\"))"
   ]
  },
  {
   "cell_type": "code",
   "execution_count": 11,
   "metadata": {
    "collapsed": false
   },
   "outputs": [],
   "source": [
    "papers3 = list(ads.SearchQuery(title= z, fq=\"bibgroup:cfa\", sort= \"pubdate\"))"
   ]
  },
  {
   "cell_type": "code",
   "execution_count": 12,
   "metadata": {
    "collapsed": false
   },
   "outputs": [
    {
     "name": "stdout",
     "output_type": "stream",
     "text": [
      "[u'Ginsburg, Idan', u'Wang, Xiawei', u'Loeb, Abraham', u'Cohen, Ofer']\n",
      "<type 'list'>\n"
     ]
    }
   ],
   "source": [
    "print papers1[0].author\n",
    "print type(papers1)"
   ]
  },
  {
   "cell_type": "code",
   "execution_count": 24,
   "metadata": {
    "collapsed": false
   },
   "outputs": [],
   "source": [
    "# Find the mean number of authors for the whole set of results of cfa papers1\n",
    "s = []\n",
    "for i in papers1:\n",
    "    auth_per_paper1 = [len(i.author)]\n",
    "    s.append(auth_per_paper1)\n",
    "avg1 = scipy.mean(s)"
   ]
  },
  {
   "cell_type": "code",
   "execution_count": 25,
   "metadata": {
    "collapsed": false
   },
   "outputs": [],
   "source": [
    "# Find the mean number of authors for the whole set of results of cfa papers2\n",
    "s2 = []\n",
    "for i in papers2:\n",
    "    auth_per_paper2 = [len(i.author)]\n",
    "    s2.append(auth_per_paper2)\n",
    "avg2 = scipy.mean(s2)"
   ]
  },
  {
   "cell_type": "code",
   "execution_count": 26,
   "metadata": {
    "collapsed": false
   },
   "outputs": [],
   "source": [
    "# Find the mean number of authors for the whole set of results of cfa papers3\n",
    "s3 = []\n",
    "for i in papers3:\n",
    "    auth_per_paper3 = [len(i.author)]\n",
    "    s3.append(auth_per_paper3)\n",
    "avg3 = scipy.mean(s3)"
   ]
  },
  {
   "cell_type": "code",
   "execution_count": 35,
   "metadata": {
    "collapsed": false
   },
   "outputs": [
    {
     "name": "stdout",
     "output_type": "stream",
     "text": [
      "Average number of Authors per topic\n",
      "===================================\n",
      "stars :  10.42\n",
      "black holes :  7.08\n",
      "supernova :  16.405\n"
     ]
    }
   ],
   "source": [
    "print \"Average number of Authors per topic\"\n",
    "print \"===================================\"\n",
    "print x, \": \", avg1\n",
    "print y, \": \", avg2\n",
    "print z, \": \", avg3"
   ]
  },
  {
   "cell_type": "code",
   "execution_count": 28,
   "metadata": {
    "collapsed": false
   },
   "outputs": [],
   "source": [
    "new_s = [i[0] for i in s]\n",
    "new_s2 = [i[0] for i in s2]\n",
    "new_s3 = [i[0] for i in s3]"
   ]
  },
  {
   "cell_type": "code",
   "execution_count": 29,
   "metadata": {
    "collapsed": false
   },
   "outputs": [],
   "source": [
    "rows = zip(new_s,new_s2,new_s3)"
   ]
  },
  {
   "cell_type": "code",
   "execution_count": 30,
   "metadata": {
    "collapsed": false
   },
   "outputs": [],
   "source": [
    "with open('search.csv', 'wb') as f:\n",
    "    writer = csv.writer(f)\n",
    "    for row in rows:\n",
    "        writer.writerow(row)"
   ]
  },
  {
   "cell_type": "code",
   "execution_count": 31,
   "metadata": {
    "collapsed": true
   },
   "outputs": [],
   "source": [
    "results = pd.read_csv('search.csv')\n",
    "results.columns = [x,y,z]"
   ]
  },
  {
   "cell_type": "code",
   "execution_count": 32,
   "metadata": {
    "collapsed": false
   },
   "outputs": [],
   "source": [
    " m_results = pd.melt(results)"
   ]
  },
  {
   "cell_type": "code",
   "execution_count": 33,
   "metadata": {
    "collapsed": false
   },
   "outputs": [],
   "source": [
    "m_results.columns = ['Search','Authors']"
   ]
  },
  {
   "cell_type": "code",
   "execution_count": 34,
   "metadata": {
    "collapsed": false
   },
   "outputs": [
    {
     "data": {
      "text/plain": [
       "<matplotlib.text.Text at 0x10a6d4750>"
      ]
     },
     "execution_count": 34,
     "metadata": {},
     "output_type": "execute_result"
    },
    {
     "data": {
      "image/png": "[encoded data removed]",
      "text/plain": [
       "<matplotlib.figure.Figure at 0x109cbfe90>"
      ]
     },
     "metadata": {},
     "output_type": "display_data"
    }
   ],
   "source": [
    "%matplotlib inline\n",
    "sns.set_context(\"poster\")\n",
    "plt.figure(figsize=(7, 8))\n",
    "v_plot = sns.violinplot(x=\"Search\", y=\"Authors\", data=m_results, palette=\"Blues_d\", scale=\"count\")\n",
    "v_plot.set_title('Number of Authors per Search Topic')"
   ]
  }
 ],
 "metadata": {
  "kernelspec": {
   "display_name": "Python 2",
   "language": "python",
   "name": "python2"
  },
  "language_info": {
   "codemirror_mode": {
    "name": "ipython",
    "version": 2
   },
   "file_extension": ".py",
   "mimetype": "text/x-python",
   "name": "python",
   "nbconvert_exporter": "python",
   "pygments_lexer": "ipython2",
   "version": "2.7.10"
  }
 },
 "nbformat": 4,
 "nbformat_minor": 0
}
