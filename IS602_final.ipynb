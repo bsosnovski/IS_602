{
 "cells": [
  {
   "cell_type": "code",
   "execution_count": 27,
   "metadata": {
    "collapsed": true
   },
   "outputs": [],
   "source": [
    "import os\n",
    "import ads\n",
    "import scipy\n",
    "import pandas as pd\n",
    "import matplotlib.pyplot as plt"
   ]
  },
  {
   "cell_type": "code",
   "execution_count": 2,
   "metadata": {
    "collapsed": false
   },
   "outputs": [],
   "source": [
    "os.environ[\"ADS_DEV_KEY\"] = (open('dev_key.txt','r')).read() #text file containing just my dev key"
   ]
  },
  {
   "cell_type": "code",
   "execution_count": 3,
   "metadata": {
    "collapsed": true
   },
   "outputs": [],
   "source": [
    "ads.config.token = 'ADS_DEV_KEY'"
   ]
  },
  {
   "cell_type": "code",
   "execution_count": 17,
   "metadata": {
    "collapsed": false
   },
   "outputs": [
    {
     "name": "stdout",
     "output_type": "stream",
     "text": [
      "--> relativity\n"
     ]
    }
   ],
   "source": [
    "x = raw_input('--> ') # the first term you want to search "
   ]
  },
  {
   "cell_type": "code",
   "execution_count": 5,
   "metadata": {
    "collapsed": false
   },
   "outputs": [
    {
     "name": "stdout",
     "output_type": "stream",
     "text": [
      "--> supernova\n"
     ]
    }
   ],
   "source": [
    "y = raw_input('--> ') # the second term you want to search for comparison"
   ]
  },
  {
   "cell_type": "code",
   "execution_count": 6,
   "metadata": {
    "collapsed": false
   },
   "outputs": [
    {
     "name": "stdout",
     "output_type": "stream",
     "text": [
      "--> stars\n"
     ]
    }
   ],
   "source": [
    "z = raw_input('--> ') # the third term you want to search for comparison"
   ]
  },
  {
   "cell_type": "code",
   "execution_count": 18,
   "metadata": {
    "collapsed": false
   },
   "outputs": [],
   "source": [
    "papers1 = list(ads.SearchQuery(title= x, fq=\"bibgroup:cfa\", sort= \"pubdate\"))"
   ]
  },
  {
   "cell_type": "code",
   "execution_count": 8,
   "metadata": {
    "collapsed": false
   },
   "outputs": [],
   "source": [
    "papers2 = list(ads.SearchQuery(title= y, fq=\"bibgroup:cfa\", sort= \"pubdate\"))"
   ]
  },
  {
   "cell_type": "code",
   "execution_count": 9,
   "metadata": {
    "collapsed": false
   },
   "outputs": [],
   "source": [
    "papers3 = list(ads.SearchQuery(title= z, fq=\"bibgroup:cfa\", sort= \"pubdate\"))"
   ]
  },
  {
   "cell_type": "code",
   "execution_count": 19,
   "metadata": {
    "collapsed": false
   },
   "outputs": [
    {
     "name": "stdout",
     "output_type": "stream",
     "text": [
      "[u'Sironi, L.', u'Keshet, U.', u'Lemoine, M.']\n",
      "<type 'list'>\n"
     ]
    }
   ],
   "source": [
    "print papers1[0].author\n",
    "print type(papers1)"
   ]
  },
  {
   "cell_type": "code",
   "execution_count": 20,
   "metadata": {
    "collapsed": false
   },
   "outputs": [],
   "source": [
    "first_art1 = papers1[0] # cfa supernova result 1"
   ]
  },
  {
   "cell_type": "code",
   "execution_count": 21,
   "metadata": {
    "collapsed": false
   },
   "outputs": [],
   "source": [
    "second_art1 = papers1[1] # cfa supernova result 2"
   ]
  },
  {
   "cell_type": "code",
   "execution_count": 22,
   "metadata": {
    "collapsed": false
   },
   "outputs": [
    {
     "name": "stdout",
     "output_type": "stream",
     "text": [
      "[3]\n",
      "[4]\n"
     ]
    },
    {
     "data": {
      "text/plain": [
       "3.5"
      ]
     },
     "execution_count": 22,
     "metadata": {},
     "output_type": "execute_result"
    }
   ],
   "source": [
    "# find the mean number of authors for first two articles in papers1\n",
    "auth1 = [len(first_art1.author)]\n",
    "auth2 = [len(second_art1.author)]\n",
    "print auth1\n",
    "print auth2\n",
    "scipy.mean(auth1+auth2)"
   ]
  },
  {
   "cell_type": "code",
   "execution_count": 23,
   "metadata": {
    "collapsed": false
   },
   "outputs": [
    {
     "name": "stdout",
     "output_type": "stream",
     "text": [
      "[[3], [4], [8], [4], [4], [4], [3], [4], [3], [5], [6], [8], [4], [23], [13], [1], [4], [21], [12], [4], [3], [3], [4], [1], [2], [4], [2], [26], [5], [3], [3], [3], [12], [4], [2], [8], [4], [3], [3], [1], [1], [8], [4], [3], [4], [22], [93], [3], [5], [3], [2], [8], [3], [1], [2], [3], [2], [5], [3], [11], [27], [7], [2], [12], [5], [5], [1], [3], [427], [3], [26], [24], [2], [3], [9], [4], [3], [1], [12], [2], [1], [6], [3], [2], [2], [3], [13], [6], [1], [1], [9], [15], [13], [3], [3], [3], [2], [1], [2], [10], [3], [2], [5], [4], [7], [1], [1], [1], [12], [4], [1], [36], [6], [2], [3], [1], [1], [1], [1], [11], [1], [6], [3], [11], [1], [12], [1], [2], [8], [1], [3], [8], [8], [8], [2], [8], [1], [1], [3], [6], [3], [1], [1], [8], [2], [5], [1], [3], [2], [2], [6], [1], [2], [1], [5], [2], [1], [3], [8], [2], [2], [7], [1], [4], [2], [1], [3], [5], [1], [3], [3], [1], [4], [3], [4], [3], [5], [5], [1], [1], [2], [2], [4], [2], [2], [1], [1], [2], [1], [2], [1], [3], [1], [3], [2], [3], [1], [1], [2], [1]]\n",
      "7.245\n"
     ]
    }
   ],
   "source": [
    "# Find the mean number of authors for the whole set of results of cfa papers1\n",
    "# this will be done for cfa black hole papers for comparison -- maybe higher avg authors for one or the other?\n",
    "\n",
    "s = []\n",
    "for i in papers1:\n",
    "    auth_per_paper1 = [len(i.author)]\n",
    "    s.append(auth_per_paper1)\n",
    "print s\n",
    "avg = scipy.mean(s)\n",
    "print avg"
   ]
  },
  {
   "cell_type": "code",
   "execution_count": 24,
   "metadata": {
    "collapsed": false
   },
   "outputs": [
    {
     "name": "stdout",
     "output_type": "stream",
     "text": [
      "[[42], [10], [21], [5], [5], [3], [2], [8], [2], [226], [8], [3], [5], [26], [3], [32], [6], [6], [5], [6], [6], [54], [53], [14], [6], [6], [1], [28], [16], [27], [2], [23], [5], [12], [39], [14], [3], [7], [6], [11], [6], [15], [226], [6], [6], [10], [20], [16], [226], [8], [33], [6], [4], [1], [8], [4], [4], [5], [8], [2], [10], [32], [2], [7], [23], [46], [14], [13], [3], [3], [1], [5], [43], [5], [5], [1], [4], [11], [49], [49], [3], [45], [51], [6], [8], [7], [8], [10], [19], [1], [4], [7], [1], [15], [10], [6], [10], [4], [9], [5], [10], [5], [9], [10], [8], [12], [38], [1], [3], [3], [3], [10], [5], [7], [30], [6], [29], [6], [13], [8], [27], [11], [8], [36], [14], [1], [8], [12], [43], [9], [3], [8], [3], [18], [8], [2], [6], [2], [29], [220], [21], [13], [10], [11], [26], [1], [3], [8], [3], [3], [15], [14], [13], [1], [7], [2], [4], [41], [14], [6], [10], [4], [7], [5], [2], [11], [6], [7], [20], [32], [5], [23], [3], [6], [7], [16], [3], [2], [1], [11], [5], [13], [4], [1], [60], [4], [24], [15], [30], [11], [3], [2], [27], [34], [3], [3], [29], [100], [12], [3]]\n",
      "16.95\n"
     ]
    }
   ],
   "source": [
    "# Find the mean number of authors for the whole set of results of cfa papers2\n",
    "s2 = []\n",
    "for i in papers2:\n",
    "    auth_per_paper2 = [len(i.author)]\n",
    "    s2.append(auth_per_paper2)\n",
    "print s2\n",
    "avg = scipy.mean(s2)\n",
    "print avg"
   ]
  },
  {
   "cell_type": "code",
   "execution_count": 25,
   "metadata": {
    "collapsed": false
   },
   "outputs": [
    {
     "name": "stdout",
     "output_type": "stream",
     "text": [
      "[[4], [5], [12], [12], [15], [18], [6], [12], [5], [4], [43], [42], [28], [3], [9], [7], [47], [22], [9], [6], [10], [11], [19], [2], [15], [16], [20], [2], [21], [28], [21], [17], [10], [3], [9], [5], [1], [6], [7], [19], [4], [10], [3], [2], [2], [6], [1], [9], [3], [3], [7], [2], [3], [1], [2], [3], [5], [1], [2], [4], [4], [9], [8], [5], [3], [9], [25], [3], [8], [1], [2], [4], [2], [3], [1], [6], [5], [9], [8], [6], [3], [2], [20], [13], [16], [12], [18], [8], [28], [3], [2], [24], [2], [3], [10], [5], [29], [4], [9], [18], [5], [9], [7], [2], [3], [6], [3], [2], [10], [11], [4], [34], [24], [9], [13], [37], [13], [3], [8], [15], [9], [8], [2], [37], [2], [1], [3], [7], [2], [4], [19], [9], [7], [11], [10], [25], [6], [2], [2], [7], [7], [27], [28], [3], [27], [5], [6], [3], [7], [64], [3], [10], [6], [2], [3], [17], [25], [4], [4], [4], [17], [7], [7], [9], [15], [5], [10], [14], [2], [4], [6], [10], [18], [17], [6], [19], [38], [9], [6], [8], [41], [20], [3], [10], [1], [3], [27], [14], [18], [4], [5], [9], [3], [18], [4], [7], [4], [5], [10], [3]]\n",
      "10.28\n"
     ]
    }
   ],
   "source": [
    "# Find the mean number of authors for the whole set of results of cfa papers3\n",
    "\n",
    "s3 = []\n",
    "for i in papers3:\n",
    "    auth_per_paper3 = [len(i.author)]\n",
    "    s3.append(auth_per_paper3)\n",
    "print s3\n",
    "avg = scipy.mean(s3)\n",
    "print avg"
   ]
  },
  {
   "cell_type": "code",
   "execution_count": null,
   "metadata": {
    "collapsed": true
   },
   "outputs": [],
   "source": []
  }
 ],
 "metadata": {
  "kernelspec": {
   "display_name": "Python 2",
   "language": "python",
   "name": "python2"
  },
  "language_info": {
   "codemirror_mode": {
    "name": "ipython",
    "version": 2
   },
   "file_extension": ".py",
   "mimetype": "text/x-python",
   "name": "python",
   "nbconvert_exporter": "python",
   "pygments_lexer": "ipython2",
   "version": "2.7.10"
  }
 },
 "nbformat": 4,
 "nbformat_minor": 0
}
