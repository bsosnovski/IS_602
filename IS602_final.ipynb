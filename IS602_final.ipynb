{
 "cells": [
  {
   "cell_type": "code",
   "execution_count": 148,
   "metadata": {
    "collapsed": true
   },
   "outputs": [],
   "source": [
    "import os\n",
    "import ads\n",
    "import scipy\n",
    "import pandas as pd\n",
    "import matplotlib.pyplot as plt\n",
    "import seaborn as sns\n",
    "import csv"
   ]
  },
  {
   "cell_type": "code",
   "execution_count": 149,
   "metadata": {
    "collapsed": false
   },
   "outputs": [],
   "source": [
    "os.environ[\"ADS_DEV_KEY\"] = \"kNUoTurJ5TXV9hsw9KQN1k8wH4U0D7Oy0CJoOvyw\" # (open('dev_key.txt','r')).read() for text file containing just dev key"
   ]
  },
  {
   "cell_type": "code",
   "execution_count": 150,
   "metadata": {
    "collapsed": false
   },
   "outputs": [],
   "source": [
    "ads.config.token = 'ADS_DEV_KEY'"
   ]
  },
  {
   "cell_type": "code",
   "execution_count": 151,
   "metadata": {
    "collapsed": false
   },
   "outputs": [
    {
     "name": "stdout",
     "output_type": "stream",
     "text": [
      "--> stars\n"
     ]
    }
   ],
   "source": [
    "x = raw_input('--> ') # the first term you want to search "
   ]
  },
  {
   "cell_type": "code",
   "execution_count": 152,
   "metadata": {
    "collapsed": false
   },
   "outputs": [
    {
     "name": "stdout",
     "output_type": "stream",
     "text": [
      "--> black holes\n"
     ]
    }
   ],
   "source": [
    "y = raw_input('--> ') # the second term you want to search for comparison"
   ]
  },
  {
   "cell_type": "code",
   "execution_count": 153,
   "metadata": {
    "collapsed": false
   },
   "outputs": [
    {
     "name": "stdout",
     "output_type": "stream",
     "text": [
      "--> supernova\n"
     ]
    }
   ],
   "source": [
    "z = raw_input('--> ') # the third term you want to search for comparison"
   ]
  },
  {
   "cell_type": "code",
   "execution_count": 154,
   "metadata": {
    "collapsed": false
   },
   "outputs": [],
   "source": [
    "papers1 = list(ads.SearchQuery(title= x, fq=\"bibgroup:cfa\", sort= \"pubdate\"))"
   ]
  },
  {
   "cell_type": "code",
   "execution_count": 155,
   "metadata": {
    "collapsed": false
   },
   "outputs": [],
   "source": [
    "papers2 = list(ads.SearchQuery(title= y, fq=\"bibgroup:cfa\", sort= \"pubdate\"))"
   ]
  },
  {
   "cell_type": "code",
   "execution_count": 156,
   "metadata": {
    "collapsed": false
   },
   "outputs": [],
   "source": [
    "papers3 = list(ads.SearchQuery(title= z, fq=\"bibgroup:cfa\", sort= \"pubdate\"))"
   ]
  },
  {
   "cell_type": "code",
   "execution_count": 157,
   "metadata": {
    "collapsed": false
   },
   "outputs": [
    {
     "name": "stdout",
     "output_type": "stream",
     "text": [
      "[u'Ginsburg, Idan', u'Wang, Xiawei', u'Loeb, Abraham', u'Cohen, Ofer']\n",
      "<type 'list'>\n"
     ]
    }
   ],
   "source": [
    "print papers1[0].author\n",
    "print type(papers1)"
   ]
  },
  {
   "cell_type": "code",
   "execution_count": 158,
   "metadata": {
    "collapsed": false
   },
   "outputs": [
    {
     "name": "stdout",
     "output_type": "stream",
     "text": [
      "10.42\n"
     ]
    }
   ],
   "source": [
    "# Find the mean number of authors for the whole set of results of cfa papers1\n",
    "s = []\n",
    "for i in papers1:\n",
    "    auth_per_paper1 = [len(i.author)]\n",
    "    s.append(auth_per_paper1)\n",
    "avg1 = scipy.mean(s)\n",
    "print avg1"
   ]
  },
  {
   "cell_type": "code",
   "execution_count": 159,
   "metadata": {
    "collapsed": false
   },
   "outputs": [
    {
     "name": "stdout",
     "output_type": "stream",
     "text": [
      "7.08\n"
     ]
    }
   ],
   "source": [
    "# Find the mean number of authors for the whole set of results of cfa papers2\n",
    "s2 = []\n",
    "for i in papers2:\n",
    "    auth_per_paper2 = [len(i.author)]\n",
    "    s2.append(auth_per_paper2)\n",
    "avg2 = scipy.mean(s2)\n",
    "print avg2"
   ]
  },
  {
   "cell_type": "code",
   "execution_count": 160,
   "metadata": {
    "collapsed": false
   },
   "outputs": [
    {
     "name": "stdout",
     "output_type": "stream",
     "text": [
      "16.405\n"
     ]
    }
   ],
   "source": [
    "# Find the mean number of authors for the whole set of results of cfa papers3\n",
    "\n",
    "s3 = []\n",
    "for i in papers3:\n",
    "    auth_per_paper3 = [len(i.author)]\n",
    "    s3.append(auth_per_paper3)\n",
    "avg3 = scipy.mean(s3)\n",
    "print avg3"
   ]
  },
  {
   "cell_type": "code",
   "execution_count": 161,
   "metadata": {
    "collapsed": false
   },
   "outputs": [],
   "source": [
    "new_s = [i[0] for i in s]\n",
    "new_s2 = [i[0] for i in s2]\n",
    "new_s3 = [i[0] for i in s3]"
   ]
  },
  {
   "cell_type": "code",
   "execution_count": 162,
   "metadata": {
    "collapsed": false
   },
   "outputs": [],
   "source": [
    "rows = zip(new_s,new_s2,new_s3)"
   ]
  },
  {
   "cell_type": "code",
   "execution_count": 163,
   "metadata": {
    "collapsed": false
   },
   "outputs": [],
   "source": [
    "with open('search.csv', 'wb') as f:\n",
    "    writer = csv.writer(f)\n",
    "    for row in rows:\n",
    "        writer.writerow(row)"
   ]
  },
  {
   "cell_type": "code",
   "execution_count": 164,
   "metadata": {
    "collapsed": true
   },
   "outputs": [],
   "source": [
    "results = pd.read_csv('search.csv')\n",
    "results.columns = [x,y,z]"
   ]
  },
  {
   "cell_type": "code",
   "execution_count": 165,
   "metadata": {
    "collapsed": false
   },
   "outputs": [],
   "source": [
    " m_results = pd.melt(results)"
   ]
  },
  {
   "cell_type": "code",
   "execution_count": 166,
   "metadata": {
    "collapsed": false
   },
   "outputs": [],
   "source": [
    "m_results.columns = ['Search','Authors']"
   ]
  },
  {
   "cell_type": "code",
   "execution_count": 190,
   "metadata": {
    "collapsed": false
   },
   "outputs": [
    {
     "data": {
      "text/plain": [
       "<matplotlib.text.Text at 0x111bcd790>"
      ]
     },
     "execution_count": 190,
     "metadata": {},
     "output_type": "execute_result"
    },
    {
     "data": {
      "image/png": "[encoded data removed]",
      "text/plain": [
       "<matplotlib.figure.Figure at 0x111a55150>"
      ]
     },
     "metadata": {},
     "output_type": "display_data"
    }
   ],
   "source": [
    "%matplotlib inline\n",
    "sns.set_context(\"poster\")\n",
    "plt.figure(figsize=(7, 8))\n",
    "v_plot = sns.violinplot(x=\"Search\", y=\"Authors\", data=m_results, palette=\"Blues_d\", scale=\"count\")\n",
    "v_plot.set_title('Number of Authors per Search Topic')"
   ]
  },
  {
   "cell_type": "code",
   "execution_count": null,
   "metadata": {
    "collapsed": true
   },
   "outputs": [],
   "source": []
  }
 ],
 "metadata": {
  "kernelspec": {
   "display_name": "Python 2",
   "language": "python",
   "name": "python2"
  },
  "language_info": {
   "codemirror_mode": {
    "name": "ipython",
    "version": 2
   },
   "file_extension": ".py",
   "mimetype": "text/x-python",
   "name": "python",
   "nbconvert_exporter": "python",
   "pygments_lexer": "ipython2",
   "version": "2.7.10"
  }
 },
 "nbformat": 4,
 "nbformat_minor": 0
}
